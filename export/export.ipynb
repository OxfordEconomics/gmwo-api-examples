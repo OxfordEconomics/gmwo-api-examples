{
 "cells": [
  {
   "attachments": {},
   "cell_type": "markdown",
   "id": "7ef81e31-85b6-4ba4-8757-05e99f7ec5a8",
   "metadata": {},
   "source": [
    "# Exporting data\n",
    "To export data from a forecast to a csv or Excel file, you can use the `/operations/export` (\"Export\") endpoint.\n",
    "\n",
    "**Note**: You can fetch similar data from the `forecast-contents/{forecastId}/variables` (\"Variables\") endpoint. Here are the key differences between the two endpoints.\n",
    "\n",
    "&nbsp;|Variables|Export\n",
    ":--|:--|:--\n",
    "Suitable for|Small selections only|Selections of any size\n",
    "How does the data arrive?|JSON array in response|A background operation is triggered to generate a csv, to be downloaded (see below)\n",
    "Supports transformations and aggregations?|No|Yes\n",
    "Supports date range?|No|Yes"
   ]
  },
  {
   "attachments": {},
   "cell_type": "markdown",
   "id": "4c48d256-8802-425b-ae34-e0ba7b2031f7",
   "metadata": {
    "tags": []
   },
   "source": [
    "## Initial setup\n",
    "- Import libraries\n",
    "- Specify the GMWO API base URL and your access token"
   ]
  },
  {
   "cell_type": "code",
   "execution_count": 1,
   "id": "4f9d939e-bfcf-46fd-9b4c-f8422ee72a2b",
   "metadata": {
    "tags": []
   },
   "outputs": [],
   "source": [
    "import requests\n",
    "import urllib.request\n",
    "import pandas # Assumes pandas has been installed already\n",
    "\n",
    "base_url = 'https://model.oxfordeconomics.com/api'\n",
    "access_token = <See https://model.oxfordeconomics.com/api/docs/#authentication>\n",
    "headers = {'Authorization' : f'Bearer {access_token}'}\n",
    "releasesFolder = \"oxford-economics/releases/gem\"\n",
    "\n",
    "    "
   ]
  },
  {
   "attachments": {},
   "cell_type": "markdown",
   "id": "10777219-b046-42ab-b75e-c31b3969aeac",
   "metadata": {},
   "source": [
    "## Find a source forecast\n",
    "You can export data from a single forecast at a time. You'll need to know the full path to the forecast in GMWO. E.g. `\"/oxford-economics/releases/GEM/Oct23_1 25yr\"`.\n",
    "\n",
    "In this example, we use the `/resources` endpoint to find the path to the latest GEM release."
   ]
  },
  {
   "cell_type": "code",
   "execution_count": 2,
   "id": "ed542102-3d6b-4dc6-8f7d-03f152613a96",
   "metadata": {
    "tags": []
   },
   "outputs": [
    {
     "data": {
      "text/plain": [
       "{'Type': 'Forecast',\n",
       " 'EconomicDomain': 'MACRO',\n",
       " 'ForecastUrl': '/v1/forecasts/=2198fad7-c646-43f7-b81c-f86dd4eea113',\n",
       " 'Versions': [{'Name': 'Oct23_1 25yr',\n",
       "   'EconomicDomain': 'MACRO',\n",
       "   'Range': {'From': '1980Q1', 'To': '2050Q4'},\n",
       "   'Id': 'd3203eab-fb65-41dc-83d9-1fb87e1c3158',\n",
       "   'Version': 0,\n",
       "   'CreatedAt': '2023-10-11T18:55:49.3903852+00:00'}],\n",
       " 'ResourceType': 'Forecast',\n",
       " 'Id': '2198fad7-c646-43f7-b81c-f86dd4eea113',\n",
       " 'Name': 'Oct23_1 25yr',\n",
       " 'Path': '/oxford-economics/releases/GEM/Oct23_1 25yr',\n",
       " 'Archiving': None,\n",
       " 'Product': {'TypeCode': 'OEF', 'Code': 'GBLMACRLM25_ONLINE'}}"
      ]
     },
     "execution_count": 2,
     "metadata": {},
     "output_type": "execute_result"
    }
   ],
   "source": [
    "gemFolderResponse = requests.get(f\"{base_url}/v1/resources/{releasesFolder}\", headers=headers)\n",
    "gemFolder = gemFolderResponse.json()\n",
    "\n",
    "# Get forecasts only (i.e. filter out subdirectories and other file types)\n",
    "gemForecasts = filter(lambda item: (item[\"Type\"] == 'Forecast'), gemFolder[\"Children\"])\n",
    "\n",
    "# Sort by latest version of each forecast\n",
    "gemForecastsLatestFirst = sorted(gemForecasts, key=lambda forecast: (forecast[\"Versions\"][-1][\"CreatedAt\"]), reverse=True)\n",
    "sourceForecast = gemForecastsLatestFirst[0]\n",
    "sourceForecast"
   ]
  },
  {
   "attachments": {},
   "cell_type": "markdown",
   "id": "d4a2d508-c9a3-48f9-97e6-1768831089f0",
   "metadata": {},
   "source": [
    "## Trigger the export\n",
    "Send a request to initiate the export. The response will be a \"Queued\" operation. You must send further requests to wait for this operation to complete.\n",
    "\n",
    "**Note**: requests to enqueue an operation such as this are subject to stricter rate limits. Please refer to the [`Throttling`](https://model.oxfordeconomics.com/api/docs/#throttling-request-limits-) section in the API guide."
   ]
  },
  {
   "cell_type": "code",
   "execution_count": 5,
   "id": "74c55222-efa1-4c6c-845d-cc5c378e156c",
   "metadata": {
    "tags": []
   },
   "outputs": [
    {
     "data": {
      "text/plain": [
       "{'Artifacts': [],\n",
       " 'Resources': [],\n",
       " 'Id': '23614',\n",
       " 'CreatedAt': '2023-10-16T10:30:14.22+00:00',\n",
       " 'StartedAt': None,\n",
       " 'CompletedAt': None,\n",
       " 'Status': 'Queued',\n",
       " 'Duration': None,\n",
       " 'FailureReason': None,\n",
       " 'Name': None}"
      ]
     },
     "execution_count": 5,
     "metadata": {},
     "output_type": "execute_result"
    }
   ],
   "source": [
    "# The export request body expects JSON of the form below.\n",
    "# Optional properties are commented out, with their default values shown\n",
    "\n",
    "# You can build the series selection in any way you like.\n",
    "# In this example, we're making a cross-product of indicator and location lists\n",
    "indicators = [\"CPI\", \"C\"]\n",
    "locations = [\"UK\", \"GERMANY\"]\n",
    "seriesSelection =  [ { \n",
    "        \"Indicator\": indicator, \n",
    "        \"Location\": location,\n",
    "\n",
    "        \"Transformation\": \"L\"\n",
    "\n",
    "        ## Transformation options are:\n",
    "        ## - \"L\" = level values\n",
    "        ## - \"PY\" = percentange change, year-on-year\n",
    "        ## - \"DY\" = difference, year-on-year\n",
    "        ## - \"GR\" = annualized percentage change\n",
    "        ## - \"P\" = percentange change, quarter-on-quarter\n",
    "        ## - \"D\" = difference, quarter-on-quarter\n",
    "\n",
    "        ## Type of values to export (\"Variable\" or \"Residual\")\n",
    "        # \"ValueType\": \"Variable\"\n",
    "    } \n",
    "    for indicator in indicators for location in locations\n",
    "]\n",
    "\n",
    "exportRequest = {\n",
    "    # Path to the source forecast. If you already know this, then replace with e.g. \"oxford-economics/releases/GEM/Oct23_1 25yr\"\n",
    "    \"InputForecast\": sourceForecast[\"Path\"], \n",
    "\n",
    "    # Range of periods for which to export data\n",
    "    \"Range\": {\n",
    "        \"From\": \"2020Q1\",\n",
    "        \"To\": \"2023Q4\"\n",
    "    },\n",
    "\n",
    "    # List of series to export\n",
    "    \"SeriesSelection\": seriesSelection,\n",
    "\n",
    "    ## Output file format\n",
    "    # \"Format\": \"Default\"\n",
    "\n",
    "    ## Format options are:\n",
    "    ## - Default. One row per series. Various metadata columns. Includes headers.\n",
    "    ## - DefaultExtended. One row per series. A few extra metadata columns compared to Default. Includes headers.\n",
    "    ## - Classic_v. Similar to Model software's one-column-per-series export.\n",
    "    ## - Classic_h. Similar to Model software's Vars By Row export.\n",
    "    ## - Skinny. Tall narrow format for import into cubes.\n",
    "    ## - DatabankCompatible. One row per series, matching format of Global Data Workstation, Excel Data Workstation.\n",
    "    ## - DatabankCompatibleStacked. One row per series and period, matching format of Global Data Workstation, Excel Data Workstation.\n",
    "\n",
    "    ## Enable/disable aggregation of quarterly data to annual (True or False)\n",
    "    # \"AnnualRollup\": False\n",
    "    \n",
    "}\n",
    "exportOperationResponse = requests.post(f\"{base_url}/v1/operations/export\", headers=headers, json=exportRequest)\n",
    "exportOperation = exportOperationResponse.json()\n",
    "exportOperation\n"
   ]
  },
  {
   "attachments": {},
   "cell_type": "markdown",
   "id": "4a40a3b8-151a-4dd6-8125-c093012e6508",
   "metadata": {},
   "source": [
    "## Wait for the export operation to complete\n",
    "The operation's `await` endpoint is designed to respond as soon as the operation has finished (within 1 minute). You can continue sending `await` requests until the status of the returned operation is no longer in progress, in case the operation takes longer than 1 minute to complete."
   ]
  },
  {
   "cell_type": "code",
   "execution_count": 6,
   "id": "304a37f5-d328-415a-951d-feaa2da10c68",
   "metadata": {
    "tags": []
   },
   "outputs": [
    {
     "data": {
      "text/plain": [
       "{'Artifacts': [{'Id': '411cece1-104f-415e-aac9-1f7d740dac26',\n",
       "   'Filename': 'series-2020-2023_Oct23_1 25yr.csv',\n",
       "   'Type': 'text/csv',\n",
       "   'DownloadUrl': 'https://model.oxfordeconomics.com/api/v1/operations/23614/artifact/411cece1-104f-415e-aac9-1f7d740dac26'}],\n",
       " 'Resources': [{'Id': '2198fad7-c646-43f7-b81c-f86dd4eea113',\n",
       "   'Path': '/oxford-economics/releases/GEM/Oct23_1 25yr',\n",
       "   'Version': 0,\n",
       "   'Role': 'Input'}],\n",
       " 'Id': '23614',\n",
       " 'CreatedAt': '2023-10-16T10:30:14.22+00:00',\n",
       " 'StartedAt': '2023-10-16T10:30:14.3294088+00:00',\n",
       " 'CompletedAt': '2023-10-16T10:30:49.4809965+00:00',\n",
       " 'Status': 'Succeeded',\n",
       " 'Duration': 35151,\n",
       " 'FailureReason': None,\n",
       " 'Name': None}"
      ]
     },
     "execution_count": 6,
     "metadata": {},
     "output_type": "execute_result"
    }
   ],
   "source": [
    "operationId = exportOperation[\"Id\"]\n",
    "while exportOperation[\"Status\"] in [\"Queued\", \"InProgress\"]:\n",
    "    exportOperationResponse = requests.get(f\"{base_url}/v1/operations/{operationId}/await\", headers=headers)\n",
    "    exportOperation = exportOperationResponse.json()\n",
    "    \n",
    "exportOperation"
   ]
  },
  {
   "attachments": {},
   "cell_type": "markdown",
   "id": "2247d2be-a6eb-4c05-8651-8377d0d59d7e",
   "metadata": {},
   "source": [
    "## Download the generated csv file\n",
    "The generated file is the first (and only) \"artifact\" of the operation. Use its `DownloadUrl` to download the file contents. \n",
    "\n",
    "The `DownloadGmwoResponse()` helper function defined here achieves two things:\n",
    "- supplies the `Authorization` header to authenticate the download request\n",
    "- downloads the response to a file without holding the entire file contents in memory at any one time"
   ]
  },
  {
   "cell_type": "code",
   "execution_count": 7,
   "id": "f0081a49-c540-4a4c-adfe-2ab970d75921",
   "metadata": {
    "tags": []
   },
   "outputs": [
    {
     "data": {
      "text/plain": [
       "'series-2020-2023_Oct23_1 25yr.csv'"
      ]
     },
     "execution_count": 7,
     "metadata": {},
     "output_type": "execute_result"
    }
   ],
   "source": [
    "# Downloads the response from a URL into a file, providing the access token via the Authorization header\n",
    "def DownloadGmwoResponse(url, filepath):\n",
    "    opener = urllib.request.build_opener()\n",
    "    opener.addheaders = [('Authorization', f'Bearer {access_token}')]\n",
    "    urllib.request.install_opener(opener)\n",
    "    urllib.request.urlretrieve(url, filepath)\n",
    "    \n",
    "exportFile = exportOperation[\"Artifacts\"][0]\n",
    "exportFilename = exportFile[\"Filename\"]\n",
    "DownloadGmwoResponse(exportFile[\"DownloadUrl\"], exportFilename)\n",
    "\n",
    "exportFilename # This file has been downloaded to the same location as this Python notebook"
   ]
  },
  {
   "attachments": {},
   "cell_type": "markdown",
   "id": "423db606",
   "metadata": {},
   "source": [
    "## Use the csv file\n",
    "You can use the csv file in any number of ways. In this example, we read the data into a pandas dataframe."
   ]
  },
  {
   "cell_type": "code",
   "execution_count": 8,
   "id": "c65bd00f-08f3-496f-ab7c-32a62ca44bb0",
   "metadata": {},
   "outputs": [
    {
     "data": {
      "text/html": [
       "<div>\n",
       "<style scoped>\n",
       "    .dataframe tbody tr th:only-of-type {\n",
       "        vertical-align: middle;\n",
       "    }\n",
       "\n",
       "    .dataframe tbody tr th {\n",
       "        vertical-align: top;\n",
       "    }\n",
       "\n",
       "    .dataframe thead th {\n",
       "        text-align: right;\n",
       "    }\n",
       "</style>\n",
       "<table border=\"1\" class=\"dataframe\">\n",
       "  <thead>\n",
       "    <tr style=\"text-align: right;\">\n",
       "      <th></th>\n",
       "      <th>Location</th>\n",
       "      <th>Indicator</th>\n",
       "      <th>Units</th>\n",
       "      <th>Scale</th>\n",
       "      <th>Measurement</th>\n",
       "      <th>Frequency</th>\n",
       "      <th>202001</th>\n",
       "      <th>202002</th>\n",
       "      <th>202003</th>\n",
       "      <th>202004</th>\n",
       "      <th>...</th>\n",
       "      <th>202303</th>\n",
       "      <th>202304</th>\n",
       "      <th>Source</th>\n",
       "      <th>Seasonally adjusted</th>\n",
       "      <th>HistoricalEndYear</th>\n",
       "      <th>HistoricalEndQuarter</th>\n",
       "      <th>Source details</th>\n",
       "      <th>Additional source details</th>\n",
       "      <th>Location code</th>\n",
       "      <th>Indicator code</th>\n",
       "    </tr>\n",
       "  </thead>\n",
       "  <tbody>\n",
       "    <tr>\n",
       "      <th>0</th>\n",
       "      <td>United Kingdom</td>\n",
       "      <td>Consumer price index</td>\n",
       "      <td>NaN</td>\n",
       "      <td>2015=100</td>\n",
       "      <td>LevelValues</td>\n",
       "      <td>Quarterly</td>\n",
       "      <td>108.4667</td>\n",
       "      <td>108.5333</td>\n",
       "      <td>108.9333</td>\n",
       "      <td>109.0667</td>\n",
       "      <td>...</td>\n",
       "      <td>131.4356</td>\n",
       "      <td>132.385600</td>\n",
       "      <td>Office for National Statistics\\Haver Analytics</td>\n",
       "      <td>No</td>\n",
       "      <td>2023</td>\n",
       "      <td>2</td>\n",
       "      <td>UK: Consumer Price Index: All Items (NSA, 2015...</td>\n",
       "      <td>D7BT@UK</td>\n",
       "      <td>UK</td>\n",
       "      <td>CPI</td>\n",
       "    </tr>\n",
       "    <tr>\n",
       "      <th>1</th>\n",
       "      <td>Germany</td>\n",
       "      <td>Consumer price index</td>\n",
       "      <td>NaN</td>\n",
       "      <td>2020=100</td>\n",
       "      <td>LevelValues</td>\n",
       "      <td>Quarterly</td>\n",
       "      <td>100.2667</td>\n",
       "      <td>100.2333</td>\n",
       "      <td>99.6000</td>\n",
       "      <td>99.9000</td>\n",
       "      <td>...</td>\n",
       "      <td>117.3000</td>\n",
       "      <td>117.873886</td>\n",
       "      <td>Deutsche Bundesbank\\Haver Analytics</td>\n",
       "      <td>Yes</td>\n",
       "      <td>2023</td>\n",
       "      <td>3</td>\n",
       "      <td>Germany: Consumer Price Index (SWDA, 2020=100)</td>\n",
       "      <td>DESPCT@GERMANY</td>\n",
       "      <td>GERMANY</td>\n",
       "      <td>CPI</td>\n",
       "    </tr>\n",
       "    <tr>\n",
       "      <th>2</th>\n",
       "      <td>United Kingdom</td>\n",
       "      <td>Consumption, private, real, LCU</td>\n",
       "      <td>Pound</td>\n",
       "      <td>Millions: chained 2019 Prices</td>\n",
       "      <td>LevelValues</td>\n",
       "      <td>Quarterly</td>\n",
       "      <td>334308.0000</td>\n",
       "      <td>256744.0000</td>\n",
       "      <td>307192.0000</td>\n",
       "      <td>301652.0000</td>\n",
       "      <td>...</td>\n",
       "      <td>341371.4000</td>\n",
       "      <td>341763.220000</td>\n",
       "      <td>Office for National Statistics\\Haver Analytics</td>\n",
       "      <td>Yes</td>\n",
       "      <td>2023</td>\n",
       "      <td>2</td>\n",
       "      <td>U.K.: Household Final Consumption Expenditure ...</td>\n",
       "      <td>ABJRQ@UK</td>\n",
       "      <td>UK</td>\n",
       "      <td>C</td>\n",
       "    </tr>\n",
       "    <tr>\n",
       "      <th>3</th>\n",
       "      <td>Germany</td>\n",
       "      <td>Consumption, private, real, LCU</td>\n",
       "      <td>Euro</td>\n",
       "      <td>Billions: chained 2015 Prices</td>\n",
       "      <td>LevelValues</td>\n",
       "      <td>Quarterly</td>\n",
       "      <td>420.0700</td>\n",
       "      <td>374.9000</td>\n",
       "      <td>414.0600</td>\n",
       "      <td>406.0000</td>\n",
       "      <td>...</td>\n",
       "      <td>423.7834</td>\n",
       "      <td>425.478670</td>\n",
       "      <td>Federal Statistics Office\\Haver Analytics</td>\n",
       "      <td>Yes</td>\n",
       "      <td>2023</td>\n",
       "      <td>2</td>\n",
       "      <td>Germany: GDP: Private Consumption (SWDA, Bil.C...</td>\n",
       "      <td>DESNCVC@GERMANY</td>\n",
       "      <td>GERMANY</td>\n",
       "      <td>C</td>\n",
       "    </tr>\n",
       "  </tbody>\n",
       "</table>\n",
       "<p>4 rows × 30 columns</p>\n",
       "</div>"
      ],
      "text/plain": [
       "         Location                        Indicator  Units   \n",
       "0  United Kingdom             Consumer price index    NaN  \\\n",
       "1         Germany             Consumer price index    NaN   \n",
       "2  United Kingdom  Consumption, private, real, LCU  Pound   \n",
       "3         Germany  Consumption, private, real, LCU   Euro   \n",
       "\n",
       "                           Scale  Measurement  Frequency       202001   \n",
       "0                       2015=100  LevelValues  Quarterly     108.4667  \\\n",
       "1                       2020=100  LevelValues  Quarterly     100.2667   \n",
       "2  Millions: chained 2019 Prices  LevelValues  Quarterly  334308.0000   \n",
       "3  Billions: chained 2015 Prices  LevelValues  Quarterly     420.0700   \n",
       "\n",
       "        202002       202003       202004  ...       202303         202304   \n",
       "0     108.5333     108.9333     109.0667  ...     131.4356     132.385600  \\\n",
       "1     100.2333      99.6000      99.9000  ...     117.3000     117.873886   \n",
       "2  256744.0000  307192.0000  301652.0000  ...  341371.4000  341763.220000   \n",
       "3     374.9000     414.0600     406.0000  ...     423.7834     425.478670   \n",
       "\n",
       "                                           Source  Seasonally adjusted   \n",
       "0  Office for National Statistics\\Haver Analytics                   No  \\\n",
       "1             Deutsche Bundesbank\\Haver Analytics                  Yes   \n",
       "2  Office for National Statistics\\Haver Analytics                  Yes   \n",
       "3       Federal Statistics Office\\Haver Analytics                  Yes   \n",
       "\n",
       "   HistoricalEndYear  HistoricalEndQuarter   \n",
       "0               2023                     2  \\\n",
       "1               2023                     3   \n",
       "2               2023                     2   \n",
       "3               2023                     2   \n",
       "\n",
       "                                      Source details   \n",
       "0  UK: Consumer Price Index: All Items (NSA, 2015...  \\\n",
       "1     Germany: Consumer Price Index (SWDA, 2020=100)   \n",
       "2  U.K.: Household Final Consumption Expenditure ...   \n",
       "3  Germany: GDP: Private Consumption (SWDA, Bil.C...   \n",
       "\n",
       "   Additional source details  Location code  Indicator code  \n",
       "0                    D7BT@UK             UK             CPI  \n",
       "1             DESPCT@GERMANY        GERMANY             CPI  \n",
       "2                   ABJRQ@UK             UK               C  \n",
       "3            DESNCVC@GERMANY        GERMANY               C  \n",
       "\n",
       "[4 rows x 30 columns]"
      ]
     },
     "execution_count": 8,
     "metadata": {},
     "output_type": "execute_result"
    }
   ],
   "source": [
    "data = pandas.read_csv(exportFilename)\n",
    "data"
   ]
  }
 ],
 "metadata": {
  "kernelspec": {
   "display_name": "Python 3 (ipykernel)",
   "language": "python",
   "name": "python3"
  },
  "language_info": {
   "codemirror_mode": {
    "name": "ipython",
    "version": 3
   },
   "file_extension": ".py",
   "mimetype": "text/x-python",
   "name": "python",
   "nbconvert_exporter": "python",
   "pygments_lexer": "ipython3",
   "version": "3.11.5"
  }
 },
 "nbformat": 4,
 "nbformat_minor": 5
}
