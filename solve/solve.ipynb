{
 "cells": [
  {
   "attachments": {},
   "cell_type": "markdown",
   "id": "7ef81e31-85b6-4ba4-8757-05e99f7ec5a8",
   "metadata": {},
   "source": [
    "# Solving the model"
   ]
  },
  {
   "attachments": {},
   "cell_type": "markdown",
   "id": "4c48d256-8802-425b-ae34-e0ba7b2031f7",
   "metadata": {
    "tags": []
   },
   "source": [
    "## Initial setup\n",
    "- Import libraries\n",
    "- Specify the GMWO API base URL and your access token"
   ]
  },
  {
   "cell_type": "code",
   "execution_count": 1,
   "id": "4f9d939e-bfcf-46fd-9b4c-f8422ee72a2b",
   "metadata": {
    "tags": []
   },
   "outputs": [],
   "source": [
    "import requests\n",
    "\n",
    "base_url = 'https://model.oxfordeconomics.com/api'\n",
    "access_token = <See https://model.oxfordeconomics.com/api/docs/#authentication>\n",
    "headers = {'Authorization' : f'Bearer {access_token}'}\n",
    "releasesFolder = \"oxford-economics/releases/gem\"\n",
    "    "
   ]
  },
  {
   "attachments": {},
   "cell_type": "markdown",
   "id": "10777219-b046-42ab-b75e-c31b3969aeac",
   "metadata": {},
   "source": [
    "## Find an input forecast\n",
    "To solve the model, you'll need an input forecast. You'll need to know the full path to the forecast in GMWO. E.g. `\"/oxford-economics/releases/GEM/Oct23_1 25yr\"`.\n",
    "\n",
    "In this example, we use the `/resources` endpoint to find the path to the latest GEM release."
   ]
  },
  {
   "cell_type": "code",
   "execution_count": 2,
   "id": "ed542102-3d6b-4dc6-8f7d-03f152613a96",
   "metadata": {
    "tags": []
   },
   "outputs": [
    {
     "data": {
      "text/plain": [
       "{'Type': 'Forecast',\n",
       " 'EconomicDomain': 'MACRO',\n",
       " 'ForecastUrl': '/v1/forecasts/=2198fad7-c646-43f7-b81c-f86dd4eea113',\n",
       " 'Versions': [{'Name': 'Oct23_1 25yr',\n",
       "   'EconomicDomain': 'MACRO',\n",
       "   'Range': {'From': '1980Q1', 'To': '2050Q4'},\n",
       "   'Id': 'd3203eab-fb65-41dc-83d9-1fb87e1c3158',\n",
       "   'Version': 0,\n",
       "   'CreatedAt': '2023-10-11T18:55:49.3903852+00:00'}],\n",
       " 'ResourceType': 'Forecast',\n",
       " 'Id': '2198fad7-c646-43f7-b81c-f86dd4eea113',\n",
       " 'Name': 'Oct23_1 25yr',\n",
       " 'Path': '/oxford-economics/releases/GEM/Oct23_1 25yr',\n",
       " 'Archiving': None,\n",
       " 'Product': {'TypeCode': 'OEF', 'Code': 'GBLMACRLM25_ONLINE'}}"
      ]
     },
     "execution_count": 2,
     "metadata": {},
     "output_type": "execute_result"
    }
   ],
   "source": [
    "gemFolderResponse = requests.get(f\"{base_url}/v1/resources/{releasesFolder}\", headers=headers)\n",
    "gemFolder = gemFolderResponse.json()\n",
    "\n",
    "# Get forecasts only (i.e. filter out subdirectories and other file types)\n",
    "gemForecasts = filter(lambda item: (item[\"Type\"] == 'Forecast'), gemFolder[\"Children\"])\n",
    "\n",
    "# Sort by latest version of each forecast\n",
    "gemForecastsLatestFirst = sorted(gemForecasts, key=lambda forecast: (forecast[\"Versions\"][-1][\"CreatedAt\"]), reverse=True)\n",
    "sourceForecast = gemForecastsLatestFirst[0]\n",
    "sourceForecast"
   ]
  },
  {
   "attachments": {},
   "cell_type": "markdown",
   "id": "ff1022ed",
   "metadata": {},
   "source": [
    "## Upload model changes (optional)\n",
    "Typically, you'll be making changes to the forecast before solving. These changes can be either:\n",
    "- a set of model commands in *3FS* syntax\n",
    "- an xlsx workbook containing imposed values for one or more variables, see example format [`here`](https://my.oxfordeconomics.com/reportaction/DF98456085CB405489340D/Toc)\n",
    "\n",
    "If you have a set of changes in a local file, you'll need to upload them to the GMWO file system before you can use them in a model solution. In this example, we're uploading an import workbook."
   ]
  },
  {
   "cell_type": "code",
   "execution_count": 3,
   "id": "e74d0b02",
   "metadata": {},
   "outputs": [
    {
     "data": {
      "text/plain": [
       "{'Type': 'GenericFile',\n",
       " 'MimeType': 'application/vnd.openxmlformats-officedocument.spreadsheetml.sheet',\n",
       " 'FileType': 'Xlsx',\n",
       " 'Versions': [{'Id': 'cac9499e-99f3-4e51-b776-84c87b89c147',\n",
       "   'Version': 0,\n",
       "   'CreatedAt': '2023-10-16T10:16:22.656079+00:00'}],\n",
       " 'ResourceType': 'OtherFile',\n",
       " 'Id': '5926e3ad-a736-40ef-9cdb-9f02833af104',\n",
       " 'Name': 'data.xlsx',\n",
       " 'Path': '/tim-stott/data.xlsx',\n",
       " 'Archiving': None,\n",
       " 'Product': None}"
      ]
     },
     "execution_count": 3,
     "metadata": {},
     "output_type": "execute_result"
    }
   ],
   "source": [
    "importFileLocal = \"C:\\\\Path\\\\To\\\\My-Changes.xlsx\"\n",
    "importFileGmwo = \"me/My-Changes.xlsx\"\n",
    "multipart_form_data = {\n",
    "    'file': ('data.xlsx', open(importFileLocal, 'rb')), # The name 'data.xlsx' here can be anything \n",
    "    'FileExtension': (None, 'xlsx') # You must provide the 'FileExtension' form value containing the file extension without a dot\n",
    "}\n",
    "\n",
    "uploadResponse = requests.post(f\"{base_url}/v1/files/upload/{importFileGmwo}\", files=multipart_form_data, headers=headers)\n",
    "uploadedFile = uploadResponse.json()\n",
    "uploadedFile"
   ]
  },
  {
   "attachments": {},
   "cell_type": "markdown",
   "id": "d4a2d508-c9a3-48f9-97e6-1768831089f0",
   "metadata": {},
   "source": [
    "## Trigger the model solution\n",
    "Send a request to initiate the solution. The response will be a \"Queued\" operation. You must send further requests to wait for this operation to complete.\n",
    "\n",
    "**Note**: requests to enqueue an operation such as this are subject to stricter rate limits. Please refer to the [`Throttling`](https://model.oxfordeconomics.com/api/docs/#throttling-request-limits-) section in the API guide."
   ]
  },
  {
   "cell_type": "code",
   "execution_count": 4,
   "id": "74c55222-efa1-4c6c-845d-cc5c378e156c",
   "metadata": {
    "tags": []
   },
   "outputs": [
    {
     "data": {
      "text/plain": [
       "{'Artifacts': [],\n",
       " 'Resources': [],\n",
       " 'Id': '23613',\n",
       " 'CreatedAt': '2023-10-16T10:18:42.423+00:00',\n",
       " 'StartedAt': None,\n",
       " 'CompletedAt': None,\n",
       " 'Status': 'Queued',\n",
       " 'Duration': None,\n",
       " 'FailureReason': None,\n",
       " 'Name': 'Example name'}"
      ]
     },
     "execution_count": 4,
     "metadata": {},
     "output_type": "execute_result"
    }
   ],
   "source": [
    "# The solution request body expects JSON of the form below.\n",
    "\n",
    "solveRequest = {\n",
    "    # Path to the input forecast. If you already know this, then replace with e.g. \"oxford-economics/releases/GEM/Oct23_1 25yr\"\n",
    "    \"InputForecast\": sourceForecast[\"Path\"],\n",
    "\n",
    "    # Range of periods to be solved\n",
    "    \"SolutionRange\": {\n",
    "        \"From\": \"2023Q2\",\n",
    "        \"To\": \"2027Q4\"\n",
    "    },\n",
    "\n",
    "    ## Inline model commands to be applied before solving\n",
    "    ## Cannot be used with \"CommandsFile\"\n",
    "    ## Omit this and \"CommandsFile\" to solve the model without changes\n",
    "    # \"Commands\": \"MULTIPLY C:US 2023Q2 1.01, 1.01, 1.02\\nFIX C:US 2023Q2:2028Q4\",\n",
    "\n",
    "    ## Path to file containing model commands or valid import data to be applied before solving\n",
    "    ## Cannot be used with \"Commands\"\n",
    "    ## Omit this and \"Commands\" to solve the model without changes\n",
    "    # \"CommandsFile\": \"/me/path/to/commands.3fs\",\n",
    "    \"CommandsFile\": uploadedFile[\"Path\"],\n",
    "\n",
    "    ## Optionally restrict solution to certain model groups or locations\n",
    "    # \"Groups\": [\n",
    "    #    \"US\",\n",
    "    #    \"CHINA\"\n",
    "    # ],\n",
    "\n",
    "    ## Optional name for the solution operation. This name will appear in API requests\n",
    "    ## for this operation and in the 'History' panel of the Run Model user interface. It's also \n",
    "    ## used to name the other artifacts generated during the operation (besides the output forecast, see below)\n",
    "    # \"OperationName\": \"Example name\",\n",
    "\n",
    "    # Path at which to save the newly-solved forecast\n",
    "    \"OutputForecast\": \"/me/path/to/new-forecast\"\n",
    "    \n",
    "}\n",
    "solveOperationResponse = requests.post(f\"{base_url}/v1/operations/solve\", headers=headers, json=solveRequest)\n",
    "solveOperation = solveOperationResponse.json()\n",
    "solveOperation\n"
   ]
  },
  {
   "attachments": {},
   "cell_type": "markdown",
   "id": "4a40a3b8-151a-4dd6-8125-c093012e6508",
   "metadata": {},
   "source": [
    "## Wait for the solve operation to complete\n",
    "The operation's `await` endpoint is designed to respond as soon as the operation has finished (within 1 minute). You can continue sending `await` requests until the status of the returned operation is no longer in progress, in case the operation takes longer than 1 minute to complete."
   ]
  },
  {
   "cell_type": "code",
   "execution_count": 5,
   "id": "304a37f5-d328-415a-951d-feaa2da10c68",
   "metadata": {
    "tags": []
   },
   "outputs": [
    {
     "data": {
      "text/plain": [
       "{'Artifacts': [{'Id': '90cdebaf-1ad0-42b2-b43e-3dcced22b335',\n",
       "   'Filename': 'Example name.3fs',\n",
       "   'Type': 'text/plain',\n",
       "   'DownloadUrl': 'https://model.oxfordeconomics.com/api/v1/operations/23613/artifact/90cdebaf-1ad0-42b2-b43e-3dcced22b335'},\n",
       "  {'Id': '9765f37c-2cc7-4f3d-8960-616ebe95afbb',\n",
       "   'Filename': 'Example name.run',\n",
       "   'Type': 'text/plain',\n",
       "   'DownloadUrl': 'https://model.oxfordeconomics.com/api/v1/operations/23613/artifact/9765f37c-2cc7-4f3d-8960-616ebe95afbb'},\n",
       "  {'Id': 'a9515071-b9f5-433e-9258-a4709bb3aacf',\n",
       "   'Filename': 'Example name.out',\n",
       "   'Type': 'text/plain',\n",
       "   'DownloadUrl': 'https://model.oxfordeconomics.com/api/v1/operations/23613/artifact/a9515071-b9f5-433e-9258-a4709bb3aacf'},\n",
       "  {'Id': 'b96724b8-faa5-4f78-9dc7-52ead8e93447',\n",
       "   'Filename': 'Example name-solver-info.json',\n",
       "   'Type': 'application/json',\n",
       "   'DownloadUrl': 'https://model.oxfordeconomics.com/api/v1/operations/23613/artifact/b96724b8-faa5-4f78-9dc7-52ead8e93447'}],\n",
       " 'Resources': [{'Id': '2198fad7-c646-43f7-b81c-f86dd4eea113',\n",
       "   'Path': '/oxford-economics/releases/GEM/Oct23_1 25yr',\n",
       "   'Version': 0,\n",
       "   'Role': 'Input'},\n",
       "  {'Id': '5926e3ad-a736-40ef-9cdb-9f02833af104',\n",
       "   'Path': '/tim-stott/data.xlsx',\n",
       "   'Version': 0,\n",
       "   'Role': 'Input'},\n",
       "  {'Id': '99380406-d06f-43ea-acc5-528e79caf0a8',\n",
       "   'Path': '/tim-stott/path/to/new-forecast',\n",
       "   'Version': 0,\n",
       "   'Role': 'Output'},\n",
       "  {'Id': 'ce1bc962-8993-42eb-8eb4-1ba312642927',\n",
       "   'Path': '/tim-stott/path/to/new-forecast.3fs',\n",
       "   'Version': 0,\n",
       "   'Role': 'Output'},\n",
       "  {'Id': '5ba27343-3938-41bc-9663-fed044c5a1bd',\n",
       "   'Path': '/tim-stott/path/to/new-forecast.out',\n",
       "   'Version': 0,\n",
       "   'Role': 'Output'},\n",
       "  {'Id': 'dae8a171-0bc2-4314-8070-881cda6dd60b',\n",
       "   'Path': '/tim-stott/path/to/new-forecast.run',\n",
       "   'Version': 0,\n",
       "   'Role': 'Output'}],\n",
       " 'Id': '23613',\n",
       " 'CreatedAt': '2023-10-16T10:18:42.423+00:00',\n",
       " 'StartedAt': '2023-10-16T10:18:42.490297+00:00',\n",
       " 'CompletedAt': '2023-10-16T10:20:01.2861947+00:00',\n",
       " 'Status': 'Succeeded',\n",
       " 'Duration': 78795,\n",
       " 'FailureReason': None,\n",
       " 'Name': 'Example name'}"
      ]
     },
     "execution_count": 5,
     "metadata": {},
     "output_type": "execute_result"
    }
   ],
   "source": [
    "operationId = solveOperation[\"Id\"]\n",
    "while solveOperation[\"Status\"] in [\"Queued\", \"InProgress\"]:\n",
    "    solveOperationResponse = requests.get(f\"{base_url}/v1/operations/{operationId}/await\", headers=headers)\n",
    "    solveOperation = solveOperationResponse.json()\n",
    "    \n",
    "solveOperation"
   ]
  },
  {
   "attachments": {},
   "cell_type": "markdown",
   "id": "80478890",
   "metadata": {},
   "source": [
    "## Verify that the solution succeeded\n",
    "Model solutions can fail for various reasons (e.g. inapplicable model commands, failure to converge). Check that the operation's `Status` is `\"Succeeded\"` before proceeding to use the new forecast. If it failed, `FailureReason` may help you understand what went wrong."
   ]
  },
  {
   "cell_type": "code",
   "execution_count": 6,
   "id": "af658887",
   "metadata": {},
   "outputs": [
    {
     "name": "stdout",
     "output_type": "stream",
     "text": [
      "Model solution succeeded in 78795ms\n"
     ]
    }
   ],
   "source": [
    "if (solveOperation[\"Status\"] != \"Succeeded\"):\n",
    "    print(\"Model solution failed\\n\\n\" + solveOperation[\"FailureReason\"])\n",
    "else:\n",
    "    print(f\"Model solution succeeded in {solveOperation['Duration']}ms\")\n"
   ]
  },
  {
   "attachments": {},
   "cell_type": "markdown",
   "id": "2247d2be-a6eb-4c05-8651-8377d0d59d7e",
   "metadata": {},
   "source": [
    "## Inspect the newly-solved forecast\n",
    "\n",
    "There are many ways to use the new forecast once it's ready (e.g. exporting data, using it another model solution). In this example, we're simply fetching some properties for it from the `/resources` endpoint."
   ]
  },
  {
   "cell_type": "code",
   "execution_count": 7,
   "id": "f0081a49-c540-4a4c-adfe-2ab970d75921",
   "metadata": {
    "tags": []
   },
   "outputs": [
    {
     "data": {
      "text/plain": [
       "{'Type': 'Forecast',\n",
       " 'EconomicDomain': 'MACRO',\n",
       " 'ForecastUrl': '/v1/forecasts/=99380406-d06f-43ea-acc5-528e79caf0a8',\n",
       " 'Versions': [{'Name': 'new-forecast',\n",
       "   'EconomicDomain': 'MACRO',\n",
       "   'Range': {'From': '1980Q1', 'To': '2050Q4'},\n",
       "   'Id': '89583b9f-a58e-463a-9282-64bc3464e8fe',\n",
       "   'Version': 0,\n",
       "   'CreatedAt': '2023-10-16T10:19:59.1693614+00:00'}],\n",
       " 'ResourceType': 'Forecast',\n",
       " 'Id': '99380406-d06f-43ea-acc5-528e79caf0a8',\n",
       " 'Name': 'new-forecast',\n",
       " 'Path': '/tim-stott/path/to/new-forecast',\n",
       " 'Archiving': None,\n",
       " 'Product': {'TypeCode': 'OEF', 'Code': 'GBLMACRLM25_ONLINE'}}"
      ]
     },
     "execution_count": 7,
     "metadata": {},
     "output_type": "execute_result"
    }
   ],
   "source": [
    "outputForecastResource = requests.get(f\"{base_url}/v1/resources/\" + solveRequest[\"OutputForecast\"], headers=headers)\n",
    "outputForecast = outputForecastResource.json()\n",
    "outputForecast"
   ]
  },
  {
   "attachments": {},
   "cell_type": "markdown",
   "id": "cccc8aec",
   "metadata": {},
   "source": [
    "## Inspecting artifacts\n",
    "Besides an output forecast, each model solution also generates a few other files known as \"artifacts\". In some cases, particularly if there is a problem with the solution, it may be useful to examine these files. In this example, we get the contents of the solution's `.out` file, which contains detailed information about the model solution process."
   ]
  },
  {
   "cell_type": "code",
   "execution_count": 11,
   "id": "38a49cd1",
   "metadata": {},
   "outputs": [
    {
     "name": "stdout",
     "output_type": "stream",
     "text": [
      "\f Genmod Version 2013.11.01 \n",
      "                                                                                             16/10/2023  10.19.02\n",
      " 11,12,20232-20274,,4,TQSF                                                       \n",
      "  Input file 11     ï»¿OEGEM                                                                            11/10/2023  09.20.40\n",
      " Output file 12 computed from 2023  2 to 2027  4 and stored from 1980  1 to 2050  4    Number of periods per year =  4\n",
      " INTRAN = 1     INEQU = 1     ) non-zero if the transformation/equation/second residual/fix\n",
      "  INADD = 1     INFIX = 1     ) arrays are to be read from the input file\n",
      " An array of size     231 has been used by the input V,R and F line data - maximum size allowed is 20000000\n",
      " ** was the maximum lag used in the trial solution -at least 4 lagged values are allocated to all variables and residuals\n",
      " An array of size  1342771 has been used for the variables and residuals - maximum size allowed is 20000000\n",
      " Data input lines have been read and checked  16/10/2023  10.19.03\n",
      " Total of   778 iterations used to compute  19 periods\n",
      "\n"
     ]
    }
   ],
   "source": [
    "outFileArtifact = list(filter(lambda artifact: (artifact[\"Filename\"].endswith('.out')), solveOperation[\"Artifacts\"]))[0]\n",
    "outFileResponse = requests.get(outFileArtifact[\"DownloadUrl\"], headers=headers)\n",
    "outFileContents = outFileResponse.text\n",
    "print(outFileContents)"
   ]
  },
  {
   "attachments": {},
   "cell_type": "markdown",
   "id": "79cfeca2",
   "metadata": {},
   "source": [
    "## Applying changes without solving\n",
    "To apply changes inline or from a file without immediately solving the model, simply use the `/operations/apply` endpoint and omit the `SolutionRange` and `Groups` properties. Other options remain the same, except that you must provide `Commands` or `CommandsFile` (for `solve`, it is permissible to omit both)."
   ]
  },
  {
   "cell_type": "code",
   "execution_count": null,
   "id": "3a9d7bfc",
   "metadata": {},
   "outputs": [],
   "source": [
    "# The solution request body expects JSON of the form below.\n",
    "# Optional properties are commented out, with their default values shown\n",
    "\n",
    "applyRequest = {\n",
    "    # Path to the input forecast\n",
    "    \"InputForecast\": sourceForecast[\"Path\"],\n",
    "\n",
    "    ## Inline model commands to be applied\n",
    "    ## Cannot be used with \"CommandsFile\"\n",
    "    # \"Commands\": \"MULTIPLY C:US 2023Q2 1.01, 1.01, 1.02\\nFIX C:US 2023Q2:2028Q4\",\n",
    "\n",
    "    ## Path to file containing model commands or valid import data to be applied\n",
    "    ## Cannot be used with \"Commands\"\n",
    "    # \"CommandsFile\": \"/me/path/to/commands.3fs\",\n",
    "    # \"CommandsFile\": \"/me/path/to/data.xlsx\",\n",
    "\n",
    "    ## Optional name for the apply operation. This name will appear in API requests\n",
    "    ## for this operation and in the 'History' panel of the Run Model user interface. It's also \n",
    "    ## used to name the other artifacts generated during the operation (besides the output forecast, see below)\n",
    "    # \"OperationName\": \"Example name\",\n",
    "\n",
    "    # Path at which to save the newly-solved forecast\n",
    "    \"OutputForecast\": \"/me/path/to/new-forecast\"\n",
    "    \n",
    "}\n",
    "applyOperationResponse = requests.post(f\"{base_url}/v1/operations/apply\", headers=headers, json=applyRequest)\n",
    "applyOperation = applyOperationResponse.json()\n",
    "applyOperation"
   ]
  }
 ],
 "metadata": {
  "kernelspec": {
   "display_name": "Python 3 (ipykernel)",
   "language": "python",
   "name": "python3"
  },
  "language_info": {
   "codemirror_mode": {
    "name": "ipython",
    "version": 3
   },
   "file_extension": ".py",
   "mimetype": "text/x-python",
   "name": "python",
   "nbconvert_exporter": "python",
   "pygments_lexer": "ipython3",
   "version": "3.11.3"
  }
 },
 "nbformat": 4,
 "nbformat_minor": 5
}
